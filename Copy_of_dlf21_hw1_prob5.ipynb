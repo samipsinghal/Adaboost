{
  "nbformat": 4,
  "nbformat_minor": 0,
  "metadata": {
    "colab": {
      "provenance": [],
      "include_colab_link": true
    },
    "kernelspec": {
      "name": "python3",
      "display_name": "Python 3"
    },
    "accelerator": "GPU"
  },
  "cells": [
    {
      "cell_type": "markdown",
      "metadata": {
        "id": "view-in-github",
        "colab_type": "text"
      },
      "source": [
        "<a href=\"https://colab.research.google.com/github/samipsinghal/Adaboost/blob/main/Copy_of_dlf21_hw1_prob5.ipynb\" target=\"_parent\"><img src=\"https://colab.research.google.com/assets/colab-badge.svg\" alt=\"Open In Colab\"/></a>"
      ]
    },
    {
      "cell_type": "markdown",
      "metadata": {
        "id": "QRGc0U3nZlZ-"
      },
      "source": [
        "**Spring 2023 HW1**"
      ]
    },
    {
      "cell_type": "markdown",
      "source": [],
      "metadata": {
        "id": "MBvA-zthcFpT"
      }
    },
    {
      "cell_type": "markdown",
      "source": [
        "1. Linear regression with non-standard losses\n",
        "\n",
        "----------------------------------------------------\n",
        "1.a. $L(w)=∥Xw−y∥_1$\n",
        "\n",
        "X = n x d matix\n",
        "y = n x 1 vector\n",
        "w = d x 1 vector\n",
        "\n",
        "---------------------------------------------------\n",
        "\n",
        "\n",
        "\n",
        "1.b. We can not write closed for expression for $l_1$ regression. For closed expression , the regression should be differentiable with respect to w and gradient should be equated to 0. This is not possible for $l_1$.\n",
        "\n",
        "\n",
        "\n",
        "\n",
        "---------------------------------------------------\n",
        "\n",
        "\n",
        "1.c. 3 step recipe of ML : \n",
        "\n",
        "Step 1 : Repressentation - Linear Regression\n",
        "\n",
        "Step 2 : Loss function - $l_1$ loss \n",
        "\n",
        "Step 3 : Optimization - Not closed form. Probably , Stochastic Gradient Decsent\n",
        "\n",
        "------------------------------------------------------------------------\n"
      ],
      "metadata": {
        "id": "xFc9m7tUcJ4K"
      }
    },
    {
      "cell_type": "markdown",
      "source": [
        "2.\n",
        "\n",
        "\n",
        "\n",
        "\n",
        "\n",
        "\n",
        "\n"
      ],
      "metadata": {
        "id": "H6H0nXhheTeV"
      }
    },
    {
      "cell_type": "markdown",
      "source": [
        "3.\n",
        "\n",
        "\n",
        "\n"
      ],
      "metadata": {
        "id": "hdkj788aeW97"
      }
    },
    {
      "cell_type": "markdown",
      "source": [
        "5."
      ],
      "metadata": {
        "id": "Lun6WzdxeYWX"
      }
    },
    {
      "cell_type": "code",
      "metadata": {
        "id": "kjvPSnDA4J_w",
        "outputId": "1a64a773-bda8-4f0d-d8ac-cf6683ed95bf",
        "colab": {
          "base_uri": "https://localhost:8080/",
          "height": 265
        }
      },
      "source": [
        "import tensorflow as tf\n",
        "import matplotlib.pyplot as plt\n",
        "\n",
        "(x_train, y_train), (x_test, y_test) = tf.keras.datasets.mnist.load_data(path=\"mnist.npz\")\n",
        "\n",
        "plt.imshow(x_train[0],cmap='gray');"
      ],
      "execution_count": null,
      "outputs": [
        {
          "output_type": "display_data",
          "data": {
            "text/plain": [
              "<Figure size 432x288 with 1 Axes>"
            ],
            "image/png": "[encoded data removed]"
          },
          "metadata": {
            "needs_background": "light"
          }
        }
      ]
    },
    {
      "cell_type": "markdown",
      "metadata": {
        "id": "Klx9qPmxF9jI"
      },
      "source": [
        "Loading MNIST is the only place where we will use TensorFlow; the rest of the code will be pure numpy.\n",
        "\n",
        "Let us now set up a few helper functions. We will use sigmoid activations for neurons, the softmax activation for the last layer, and the cross entropy loss."
      ]
    },
    {
      "cell_type": "code",
      "metadata": {
        "id": "sdyvaUKoF7ux"
      },
      "source": [
        "import numpy as np\n",
        "\n",
        "def sigmoid(x):\n",
        "  # Numerically stable sigmoid function based on\n",
        "  # http://timvieira.github.io/blog/post/2014/02/11/exp-normalize-trick/\n",
        "  \n",
        "  x = np.clip(x, -500, 500) # We get an overflow warning without this\n",
        "  \n",
        "  return np.where(\n",
        "    x >= 0,\n",
        "    1 / (1 + np.exp(-x)),\n",
        "    np.exp(x) / (1 + np.exp(x))\n",
        "  )\n",
        "\n",
        "def dsigmoid(x): # Derivative of sigmoid\n",
        "  return sigmoid(x) * (1 - sigmoid(x))\n",
        "\n",
        "def softmax(x):\n",
        "  # Numerically stable softmax based on (same source as sigmoid)\n",
        "  # http://timvieira.github.io/blog/post/2014/02/11/exp-normalize-trick/\n",
        "  b = x.max()\n",
        "  y = np.exp(x - b)\n",
        "  return y / y.sum()\n",
        "\n",
        "def cross_entropy_loss(y, yHat):\n",
        "  return -np.sum(y * np.log(yHat))\n",
        "\n",
        "def integer_to_one_hot(x, max):\n",
        "  # x: integer to convert to one hot encoding\n",
        "  # max: the size of the one hot encoded array\n",
        "  result = np.zeros(10)\n",
        "  result[x] = 1\n",
        "  return result"
      ],
      "execution_count": null,
      "outputs": []
    },
    {
      "cell_type": "markdown",
      "metadata": {
        "id": "_xIZEupTHyNM"
      },
      "source": [
        "OK, we are now ready to build and train our model. The input is an image of size 28x28, and the output is one of 10 classes. So, first: \n",
        "\n",
        "Q1. Initialize a 2-hidden layer neural network with 32 neurons in each hidden layer, i.e., your layer sizes should be: \n",
        "\n",
        "784 -> 32 -> 32 -> 10\n",
        "\n",
        "If the layer is $n_{in} \\times n_{out}$ your layer weights should be initialized by sampling from a normal distribution with mean zero and variance 1/$\\max(n_{in},n_{out})$."
      ]
    },
    {
      "cell_type": "code",
      "metadata": {
        "id": "zBeGvbu6FaM_"
      },
      "source": [
        "import math\n",
        "\n",
        "# Initialize weights of each layer with a normal distribution of mean 0 and\n",
        "# standard deviation 1/sqrt(n), where n is the number of inputs.\n",
        "# This means the weighted input will be a random variable itself with mean\n",
        "# 0 and standard deviation close to 1 (if biases are initialized as 0, standard\n",
        "# deviation will be exactly 1)\n",
        "\n",
        "from numpy.random import default_rng\n",
        "\n",
        "rng = default_rng(80085)\n",
        "\n",
        "weights = [\n",
        "           rng.normal(0,1/np.sqrt(28*28), (28*28,32)),\n",
        "           rng.normal(0,1/np.sqrt(28*28), (32,32)),\n",
        "           rng.normal(0,1/np.sqrt(32), (32,10))\n",
        "]\n",
        "biases = [\n",
        "          np.zeros((1,32)),\n",
        "          np.zeros((1,32)),\n",
        "          np.zeros((1,10))\n",
        "]\n"
      ],
      "execution_count": null,
      "outputs": []
    },
    {
      "cell_type": "markdown",
      "metadata": {
        "id": "IafUGD_VGeLh"
      },
      "source": [
        "Next, we will set up the forward pass. We will implement this by looping over \n",
        "\n",
        "*   List item\n",
        "*   List item\n",
        "\n",
        "the layers and successively computing the activations of each layer. \n",
        "\n",
        "Q2. Implement the forward pass for a single sample, and for the entire dataset.\n",
        "\n",
        "\n",
        "Right now, your network weights should be random, so doing a forward pass with the data should not give you any meaningful information. Therefore, in the last line, when you calculate test accuracy, it should be somewhere around 1/10 (i.e., a random guess)."
      ]
    },
    {
      "cell_type": "code",
      "metadata": {
        "id": "cd6jGroQGdOF"
      },
      "source": [
        "def feed_forward_sample(sample, y):\n",
        "  \"\"\" Forward pass through the neural network.\n",
        "    Inputs:\n",
        "      sample: 1D numpy array. The input sample (an MNIST digit).\n",
        "      label: An integer from 0 to 9.\n",
        "\n",
        "    Returns: the cross entropy loss, most likely class\n",
        "  \"\"\"\n",
        "  a = np.reshape(sample, (1,28*28))\n",
        "  u1 = np.dot(a, weights[0]) + biases[0]\n",
        "  z1 = sigmoid(u1)\n",
        "  u2 = np.dot(z1, weights[1]) + biases[1]\n",
        "  z2 = sigmoid(u2)\n",
        "  u3 = np.dot(z2, weights[2]) + biases[2]\n",
        "  yhat = softmax(u3)\n",
        "\n",
        "  yvector = integer_to_one_hot(y,10)\n",
        "  loss = cross_entropy_loss(yvector, yhat)\n",
        "  pred_class = np.argmax(yhat)\n",
        "  one_hot_guess = integer_to_one_hot(pred_class, 10)\n",
        "\n",
        "  return loss, one_hot_guess\n",
        "\n",
        "\n",
        "def feed_forward_dataset(x, y):\n",
        "  losses = np.empty(x.shape[0])\n",
        "  one_hot_guesses = np.empty((x.shape[0], 10))\n",
        "\n",
        "  for i in range(x.shape[0]):\n",
        "    loss, one_hot_guess = feed_forward_sample(x[i], y[i])\n",
        "    losses[i] = loss\n",
        "    one_hot_guesses[i] = one_hot_guess\n",
        "\n",
        "  y_one_hot = np.zeros((y.size, 10))\n",
        "  y_one_hot[np.arange(y.size), y] = 1\n",
        "\n",
        "  correct_guesses = np.sum(y_one_hot * one_hot_guesses)\n",
        "  correct_guess_percent = format((correct_guesses / y.shape[0]) * 100, \".2f\")  \n",
        "\n",
        "  print(\"\\nAverage loss:\", np.round(np.average(losses), decimals=2))\n",
        "  print(\"Accuracy (# of correct guesses):\", correct_guesses, \"/\", y.shape[0], \"(\", correct_guess_percent, \"%)\")\n",
        "\n",
        "def feed_forward_training_data():\n",
        "  print(\"Feeding forward all training data...\")\n",
        "  feed_forward_dataset(x_train, y_train)\n",
        "  print(\"\")\n",
        "\n",
        "def feed_forward_test_data():\n",
        "  print(\"Feeding forward all test data...\")\n",
        "  feed_forward_dataset(x_test, y_test)\n",
        "  print(\"\")\n",
        "\n",
        "feed_forward_test_data()"
      ],
      "execution_count": null,
      "outputs": []
    },
    {
      "cell_type": "markdown",
      "metadata": {
        "id": "sSrlc2VLOi8L"
      },
      "source": [
        "OK, now we will implement the backward pass using backpropagation. We will keep it simple and just do training sample-by-sample (no minibatching, no randomness).\n",
        "\n",
        "Q3: Compute the gradient of all the weights and biases by backpropagating derivatives all the way from the output to the first layer. \n",
        "\n",
        "\n",
        "\n"
      ]
    },
    {
      "cell_type": "code",
      "metadata": {
        "id": "BLLEsVdcOgzi"
      },
      "source": [
        "def train_one_sample(sample, y, learning_rate=0.003):\n",
        "  a = sample.flatten()\n",
        "\n",
        "  # Forward pass\n",
        "  a = np.reshape(sample, (1,28*28))\n",
        "  u1 = np.dot(a, weights[0]) + biases[0]  # u1 = <a, w0> + b0\n",
        "  z1 = sigmoid(u1)                        # z1 = sigma(u1)\n",
        "  u2 = np.dot(z1, weights[1]) + biases[1] # u2 = <z1, w1> + b1\n",
        "  z2 = sigmoid(u2)                        # z2 = sigma(u2)\n",
        "  u3 = np.dot(z2, weights[2]) + biases[2] # u3 = <z2, w2> + b2\n",
        "  yhat = softmax(u3)                      # yhat = softmax(u3)\n",
        "\n",
        "  # Calculate loss\n",
        "  pred_class = np.argmax(yhat)\n",
        "  one_hot_guess = integer_to_one_hot(pred_class, 10)\n",
        "  yvector = integer_to_one_hot(y, 10)\n",
        "  loss = cross_entropy_loss(yvector, yhat)\n",
        "\n",
        "  # Computation graph: x -> u1 -> z1 -> u2 -> z2 -> u3 -> yhat -> L\n",
        "\n",
        "  # Backward pass\n",
        "  du3 = yhat - yvector                  # dL/du = yhat - yvector\n",
        "  dw3 = z2.T.dot(du3)                   # dL/du3 * du3/dw3 = (yhat - yvector) z2^T\n",
        "  db3 = du3                             # dL/db3 = dL/du3 * du3/db3 = (yhat - yvector) * 1\n",
        "         \n",
        "  dz2 = du3.dot(weights[2].T)           # dL/dz2 = dL/du3 * du3/dz3 = (yhat - yvector) * W_2\n",
        "  du2 = np.multiply(dz2, dsigmoid(u2))  # dL/du2 = dL/dz2 * dz2/du2 = (yhat - yvector) * W_2 * dsigmoid(u2)\n",
        "  dw2 = z1.T.dot(du2)                   # dL/dw2 = dL/du2 * du2/dw2 = dL/du2 * z1^T\n",
        "  db2 = du2                             # dL/db2 = dL/du2 * du2/db2 = dL/du2\n",
        "\n",
        "  dz1 = du2.dot(weights[1].T)           # dL/dz1 = dL/du2 * du2/dz1 = dL/du2 * W_1\n",
        "  du1 = np.multiply(dz1, dsigmoid(u1))  # dL/du1 = dL/dz1 * dz1/du1 = dL/dz1 * dsigmoid(u1)\n",
        "  dw1 = a.T.dot(du1)                    # dL/dw1 = dL/du1 * du1/dw1 = dL/du1 * a^T\n",
        "  db1 = du1                             # dL/db1 = dL/du1 * du1/db1 = dL/du1\n",
        "\n",
        "  weight_gradients = [dw1, dw2, dw3]\n",
        "  bias_gradients = [db1, db2, db3]\n",
        "\n",
        "  # Q3. Implement backpropagation by backward-stepping gradients through each layer.\n",
        "  # You may need to be careful to make sure your Jacobian matrices are the right shape.\n",
        "  # At the end, you should get two vectors: weight_gradients and bias_gradients.\n",
        "  # ...\n",
        "\n",
        "  # Update weights & biases based on your calculated gradient\n",
        "  num_layers = 3\n",
        "  for i in range(num_layers):\n",
        "    weights[i] -= weight_gradients[i] * learning_rate\n",
        "    biases[i] -= bias_gradients[i].flatten() * learning_rate\n",
        "\n"
      ],
      "execution_count": null,
      "outputs": []
    },
    {
      "cell_type": "markdown",
      "metadata": {
        "id": "6AXY27pOB9cW"
      },
      "source": [
        "Finally, train for 3 epochs by looping over the entire training dataset 3 times.\n",
        "\n",
        "Q4. Train your model for 3 epochs."
      ]
    },
    {
      "cell_type": "code",
      "metadata": {
        "id": "8Ygk05FcB-rL"
      },
      "source": [
        "def train_one_epoch(learning_rate=0.003):\n",
        "  print(\"Training for one epoch over the training dataset...\")\n",
        "  \n",
        "  for i in range(x_train.shape[0]):\n",
        "    train_one_sample(x_train[i], y_train[i], learning_rate=learning_rate)\n",
        "\n",
        "  print(\"Finished training.\\n\")\n",
        "\n",
        "\n",
        "feed_forward_test_data()\n",
        "\n",
        "def test_and_train():\n",
        "  train_one_epoch()\n",
        "  feed_forward_test_data()\n",
        "\n",
        "for i in range(3): \n",
        "  test_and_train()"
      ],
      "execution_count": null,
      "outputs": []
    },
    {
      "cell_type": "markdown",
      "metadata": {
        "id": "IKzEn_lyCAIe"
      },
      "source": [
        "\n",
        "That's it! \n",
        "\n",
        "Your code is probably very time- and memory-inefficient; that's ok. There is a ton of optimization under the hood in professional deep learning frameworks which we won't get into.\n",
        "\n",
        "If everything is working well, you should be able to raise the accuracy from ~10% to ~70% accuracy after 3 epochs."
      ]
    }
  ]
}